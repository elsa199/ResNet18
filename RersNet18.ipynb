{
  "nbformat": 4,
  "nbformat_minor": 0,
  "metadata": {
    "colab": {
      "name": "v1_RersNet.ipynb",
      "private_outputs": true,
      "provenance": [],
      "collapsed_sections": []
    },
    "kernelspec": {
      "name": "python3",
      "display_name": "Python 3"
    },
    "language_info": {
      "name": "python"
    },
    "accelerator": "GPU"
  },
  "cells": [
    {
      "cell_type": "markdown",
      "metadata": {
        "id": "jhVe5kvIygN2"
      },
      "source": [
        "## prepare dataset"
      ]
    },
    {
      "cell_type": "code",
      "metadata": {
        "id": "CXJadANBH1ZD"
      },
      "source": [
        "from google.colab import drive\n",
        "drive.mount('/content/drive')"
      ],
      "execution_count": null,
      "outputs": []
    },
    {
      "cell_type": "code",
      "metadata": {
        "id": "3Fc0Mcx_Vtao"
      },
      "source": [
        "!gdown --id 1wCNiI0_V9sBO6srQuXftx0LxBsdHYBkt"
      ],
      "execution_count": null,
      "outputs": []
    },
    {
      "cell_type": "code",
      "metadata": {
        "id": "Mkwjxz1TWlPa"
      },
      "source": [
        "!unzip /content/googleNet.zip"
      ],
      "execution_count": null,
      "outputs": []
    },
    {
      "cell_type": "code",
      "metadata": {
        "id": "gzFK9SzZXX8o"
      },
      "source": [
        "import glob\n",
        "import imageio\n",
        "import os\n",
        "import cv2\n",
        "\n",
        "for folder in glob.glob('/content/googleNet/*'):\n",
        "  for subfolder in glob.glob(folder+'/*'):\n",
        "    for image in glob.glob(subfolder+'/*'):\n",
        "      \n",
        "      try:\n",
        "        im = imageio.imread(image)\n",
        "\n",
        "        if im.shape[2] != 3 :\n",
        "          print(image)\n",
        "          os.remove(image)\n",
        "\n",
        "      except:\n",
        "        print(image)\n",
        "        os.remove(image)"
      ],
      "execution_count": null,
      "outputs": []
    },
    {
      "cell_type": "code",
      "metadata": {
        "id": "E8Zwb0AudzjP"
      },
      "source": [
        "!rm -rf /content/googleNet/Train/Fire/.ipynb_checkpoints/\n",
        "!rm -rf /content/googleNet/Validation/.ipynb_checkpoints/\n",
        "!rm -rf /content/googleNet/Train/.ipynb_checkpoints/"
      ],
      "execution_count": null,
      "outputs": []
    },
    {
      "cell_type": "code",
      "metadata": {
        "id": "4V-Td0kCdTgN"
      },
      "source": [
        "import tensorflow as tf\n",
        "\n",
        "img_height = 224\n",
        "img_width = 224\n",
        "batch_size = 64\n",
        "\n",
        "train_ds = tf.keras.preprocessing.image_dataset_from_directory(\n",
        "    \"/content/googleNet/Train\",\n",
        "    seed=123,\n",
        "    shuffle=True,\n",
        "    image_size=(img_height, img_width),\n",
        "    label_mode = \"categorical\",\n",
        "    batch_size=batch_size)\n",
        "\n",
        "val_ds = tf.keras.preprocessing.image_dataset_from_directory(\n",
        "    \"/content/googleNet/Validation\",\n",
        "    seed=123,\n",
        "    shuffle=True,\n",
        "    image_size=(img_height, img_width),\n",
        "    label_mode=\"categorical\",\n",
        "    batch_size=batch_size)\n",
        "\n",
        "class_names = train_ds.class_names\n",
        "print(class_names)"
      ],
      "execution_count": null,
      "outputs": []
    },
    {
      "cell_type": "markdown",
      "metadata": {
        "id": "0zWvoAXbuihW"
      },
      "source": [
        "### requirements for installation "
      ]
    },
    {
      "cell_type": "code",
      "metadata": {
        "id": "QY3nsg5eQy7p"
      },
      "source": [
        "!pip install image-classifiers==0.2.2"
      ],
      "execution_count": null,
      "outputs": []
    },
    {
      "cell_type": "code",
      "metadata": {
        "id": "MG_haMfIRF78"
      },
      "source": [
        "!pip install git+https://github.com/qubvel/classification_models.git"
      ],
      "execution_count": null,
      "outputs": []
    },
    {
      "cell_type": "markdown",
      "metadata": {
        "id": "GfDtDWHlvWp9"
      },
      "source": [
        "## Loading model with imagenet weights:"
      ]
    },
    {
      "cell_type": "code",
      "metadata": {
        "id": "H1KBtChBRdZM"
      },
      "source": [
        "# from classification_models.keras import Classifiers\n",
        "\n",
        "# for tensorflow.keras\n",
        "from classification_models.tfkeras import Classifiers\n",
        "\n",
        "ResNet18, preprocess_input = Classifiers.get('resnet18')\n",
        "model = ResNet18((224, 224, 3), weights='imagenet')\n",
        "\n",
        "model.summary()"
      ],
      "execution_count": null,
      "outputs": []
    },
    {
      "cell_type": "markdown",
      "metadata": {
        "id": "BDJt1ND0vxC1"
      },
      "source": [
        "## Model fine-tuning example:"
      ]
    },
    {
      "cell_type": "code",
      "metadata": {
        "id": "cx7oNYSk_5IJ"
      },
      "source": [
        "transfer_model = ResNet18(input_shape=(224, 224, 3), include_top=False, weights='imagenet')\n",
        "for layer in transfer_model.layers[:-1]: \n",
        "    layer.trainable = True\n",
        "\n",
        "    transfer_model.summary()"
      ],
      "execution_count": null,
      "outputs": []
    },
    {
      "cell_type": "markdown",
      "metadata": {
        "id": "ffGmUomUw_w0"
      },
      "source": [
        "# build model"
      ]
    },
    {
      "cell_type": "code",
      "metadata": {
        "id": "sgfA4_hzCbfL"
      },
      "source": [
        "from tensorflow.keras.layers import Dense,GlobalAveragePooling2D\n",
        "from tensorflow.keras.models import Model\n",
        "\n",
        "\n",
        "x = GlobalAveragePooling2D()(transfer_model.output)\n",
        "x = Dense(2, activation = 'relu')(x)\n",
        "mymodel = Dense(2, activation='softmax')(x)\n",
        "\n",
        "my_finetunResnet = Model(transfer_model.input, mymodel)\n",
        "\n",
        "my_finetunResnet.summary()"
      ],
      "execution_count": null,
      "outputs": []
    },
    {
      "cell_type": "markdown",
      "metadata": {
        "id": "mwaicLxox2Ul"
      },
      "source": [
        "## compile model"
      ]
    },
    {
      "cell_type": "code",
      "metadata": {
        "id": "d2fLQS8cF-2i"
      },
      "source": [
        "import tensorflow as tf\n",
        "my_finetunResnet.compile(optimizer = tf.keras.optimizers.SGD(learning_rate=0.0001), loss=tf.keras.losses.CategoricalCrossentropy() , metrics=['Accuracy', 'Precision', 'Recall'])"
      ],
      "execution_count": null,
      "outputs": []
    },
    {
      "cell_type": "markdown",
      "metadata": {
        "id": "Ks_B0SFOyDhF"
      },
      "source": [
        "## define Callback"
      ]
    },
    {
      "cell_type": "code",
      "metadata": {
        "id": "9qdQ0M2HJqSi"
      },
      "source": [
        "myCallback = tf.keras.callbacks.ModelCheckpoint(\n",
        "    \"/content/drive/MyDrive/resnet18_v6\", monitor='val_loss', verbose=1, save_best_only=True,\n",
        "    save_weights_only=False, mode='auto', save_freq='epoch',\n",
        "    options=None\n",
        ")"
      ],
      "execution_count": null,
      "outputs": []
    },
    {
      "cell_type": "markdown",
      "metadata": {
        "id": "PGTeQGHewaru"
      },
      "source": [
        "## load saved model: \n",
        "This line only applies to saved models"
      ]
    },
    {
      "cell_type": "code",
      "metadata": {
        "id": "eceT1LJTwJIb"
      },
      "source": [
        "import tensorflow as tf\n",
        "my_finetunResnet = tf.keras.models.load_model(\"/content/drive/MyDrive/resnet18_v5\") "
      ],
      "execution_count": null,
      "outputs": []
    },
    {
      "cell_type": "markdown",
      "metadata": {
        "id": "1iTlnjV_XfCg"
      },
      "source": [
        "## Train Model\n"
      ]
    },
    {
      "cell_type": "code",
      "metadata": {
        "id": "38uDJaOUOfeq"
      },
      "source": [
        "history = my_finetunResnet.fit(\n",
        "    train_ds,\n",
        "    epochs=300,\n",
        "    validation_data=val_ds,\n",
        "    callbacks=[myCallback]\n",
        ")"
      ],
      "execution_count": null,
      "outputs": []
    },
    {
      "cell_type": "markdown",
      "metadata": {
        "id": "qvOJenFFXSLg"
      },
      "source": [
        "## Convert to ONNX"
      ]
    },
    {
      "cell_type": "code",
      "metadata": {
        "id": "PPa4QI2rOaFj"
      },
      "source": [
        "!pip install tf2onnx"
      ],
      "execution_count": null,
      "outputs": []
    },
    {
      "cell_type": "code",
      "metadata": {
        "id": "61-HjM5rOgcb"
      },
      "source": [
        "import onnx\n",
        "import tf2onnx\n",
        "\n",
        "onnx_model, _ = tf2onnx.convert.from_keras(myModel)\n",
        "onnx.save(onnx_model, \"/content/drive/MyDrive/resnet18_v5.onnx\")"
      ],
      "execution_count": null,
      "outputs": []
    }
  ]
}